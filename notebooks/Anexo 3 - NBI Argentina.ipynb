{
 "cells": [
  {
   "cell_type": "code",
   "execution_count": 1,
   "metadata": {},
   "outputs": [],
   "source": [
    "import json\n",
    "\n",
    "from redatam import bajar_query, soup_to_dict, redatam_dict_to_geojson\n",
    "from keplergl import KeplerGl \n",
    "from pprint import pprint"
   ]
  },
  {
   "cell_type": "code",
   "execution_count": 2,
   "metadata": {},
   "outputs": [],
   "source": [
    "\n",
    "# Consulta para NBI Argentina\n",
    "# Cantidad de casas que no posee inodoro o letrina HOGAR.H1510 = 2\n",
    "query_nbi_ii_arg = 'HOGAR.H1510 = 2'\n",
    "\n",
    "\n",
    "# Consulta para NBI Uruguay\n",
    "\n",
    "# NBI II criterio agua potable:\n",
    "#    Un hogar particular tendrá una necesidad básica insatisfecha con relación al abastecimiento de agua potable si esta\n",
    "#    no llega por cañería dentro de la vivienda o si, en caso de que lo haga, el origen no sea red general ni pozo \n",
    "#    surgente protegido.\n",
    "query_agua_potable_uy = 'HOGAR.H1409 > 3 AND HOGAR.H1308 <> 1'\n",
    "\n",
    "\n",
    "# NBI II criterio excretas:\n",
    "#    Un hogar particular tendrá necesidades básicas insatisfechas en saneamiento si cumple al menos una de las\n",
    "#    siguientes condiciones: \n",
    "#        a) no accede a baño;\n",
    "#        b) accediendo, su uso no es exclusivo del hogar o;\n",
    "#        c) la evacuación del servicio sanitario no es a red general, fosa séptica o pozo negro.\n",
    "\n",
    "query_excretas_uy_a = query_nbi_ii_arg\n",
    "query_excretas_uy_b = 'HOGAR.H1712 = 4 OR HOGAR.H1813 = 2'\n",
    "\n",
    "query_nbi_ii_uy = \"({0}) OR ({1}) OR ({2})\".format(query_agua_potable_uy, query_excretas_uy_a, query_excretas_uy_b)"
   ]
  },
  {
   "cell_type": "code",
   "execution_count": 3,
   "metadata": {},
   "outputs": [],
   "source": [
    "with open('radios_censales_santa_fe.json') as jsonfile:\n",
    "    radios_santa_fe = json.load(jsonfile)"
   ]
  },
  {
   "cell_type": "code",
   "execution_count": 4,
   "metadata": {},
   "outputs": [],
   "source": [
    "nbi_ii_arg = soup_to_dict(bajar_query(query_nbi_ii_arg))"
   ]
  },
  {
   "cell_type": "code",
   "execution_count": 5,
   "metadata": {},
   "outputs": [],
   "source": [
    "nbi_ii_uy = soup_to_dict(bajar_query(query_nbi_ii_uy))"
   ]
  },
  {
   "cell_type": "code",
   "execution_count": 6,
   "metadata": {},
   "outputs": [],
   "source": [
    "total_hogares = soup_to_dict(bajar_query(''))"
   ]
  },
  {
   "cell_type": "code",
   "execution_count": 7,
   "metadata": {},
   "outputs": [
    {
     "name": "stdout",
     "output_type": "stream",
     "text": [
      "Radio 820490811 vacío\n",
      "Radio 820630321 vacío\n",
      "Radio 820630410 vacío\n",
      "Radio 820632004 vacío\n",
      "Radio 820633405 vacío\n",
      "Radio 820841019 vacío\n",
      "Radio 820844105 vacío\n",
      "Radio 821330110 vacío\n",
      "Radio 821330302 vacío\n",
      "Radio 821330519 vacío\n",
      "Radio 821330521 vacío\n"
     ]
    }
   ],
   "source": [
    "nbi_ii_relativo = {}\n",
    "for radio, valores in total_hogares.items():\n",
    "    hogares = valores['total']\n",
    "    if not hogares:\n",
    "        nbi_ii_relativo[radio] = {'nbi_ii_arg': 0.0, 'nbi_ii_uy': 0.0}        \n",
    "        print(\"Radio {} vacío\".format(radio))\n",
    "        continue\n",
    "    try:\n",
    "        nbi_arg = nbi_ii_arg[radio]['total']\n",
    "    except KeyError:\n",
    "        print('Sin datos para radio {} en metodología Argentina'.format(radio))\n",
    "        nbi_arg = 0\n",
    "    try:\n",
    "        nbi_uy = nbi_ii_uy[radio]['total']\n",
    "    except KeyError:\n",
    "        print('Sin datos para radio {} en metodología Uruguay'.format(radio))\n",
    "        nbi_uy = 0\n",
    "    nbi_ii_relativo[radio] = {\n",
    "        'nbi_ii_arg': round(nbi_arg/hogares, 4)*100,\n",
    "        'nbi_ii_uy': round(nbi_uy/hogares, 4)*100\n",
    "    }"
   ]
  },
  {
   "cell_type": "code",
   "execution_count": 8,
   "metadata": {},
   "outputs": [
    {
     "name": "stdout",
     "output_type": "stream",
     "text": [
      "Radio censal no encontrado en REDATAM: 821330631\n",
      "Radio censal no encontrado en REDATAM: 820070101\n"
     ]
    }
   ],
   "source": [
    "geojson_nbi_ii = redatam_dict_to_geojson(nbi_ii_relativo, radios_santa_fe)"
   ]
  },
  {
   "cell_type": "code",
   "execution_count": 9,
   "metadata": {},
   "outputs": [],
   "source": [
    "with open('kepler.config.json') as jsonfile:\n",
    "    kepler_config = json.load(jsonfile)"
   ]
  },
  {
   "cell_type": "code",
   "execution_count": 10,
   "metadata": {},
   "outputs": [
    {
     "name": "stdout",
     "output_type": "stream",
     "text": [
      "User Guide: https://docs.kepler.gl/docs/keplergl-jupyter\n"
     ]
    }
   ],
   "source": [
    "mapa = KeplerGl(height=700, config=kepler_config)\n",
    "mapa.add_data(geojson_nbi_ii, name=\"NBI II\")\n"
   ]
  },
  {
   "cell_type": "code",
   "execution_count": 11,
   "metadata": {},
   "outputs": [
    {
     "data": {
      "application/vnd.jupyter.widget-view+json": {
       "model_id": "56e9d03417bf44c8961266f1979c918d",
       "version_major": 2,
       "version_minor": 0
      },
      "text/plain": [
       "KeplerGl(config={'version': 'v1', 'config': {'visState': {'filters': [], 'layers': [{'id': '67yqg3p', 'type': …"
      ]
     },
     "metadata": {},
     "output_type": "display_data"
    }
   ],
   "source": [
    "mapa"
   ]
  },
  {
   "cell_type": "code",
   "execution_count": 23,
   "metadata": {},
   "outputs": [],
   "source": [
    "with open('kepler.config.json', 'w') as jsonfile:\n",
    "    json.dump(mapa.config, jsonfile)"
   ]
  },
  {
   "cell_type": "markdown",
   "metadata": {},
   "source": []
  }
 ],
 "metadata": {
  "kernelspec": {
   "display_name": "Python 3",
   "language": "python",
   "name": "python3"
  },
  "language_info": {
   "codemirror_mode": {
    "name": "ipython",
    "version": 3
   },
   "file_extension": ".py",
   "mimetype": "text/x-python",
   "name": "python",
   "nbconvert_exporter": "python",
   "pygments_lexer": "ipython3",
   "version": "3.9.5"
  }
 },
 "nbformat": 4,
 "nbformat_minor": 2
}
