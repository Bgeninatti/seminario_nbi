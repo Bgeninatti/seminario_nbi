{
 "cells": [
  {
   "cell_type": "code",
   "execution_count": 1,
   "metadata": {},
   "outputs": [],
   "source": [
    "from censo import cargar_tabla, cargar_mapa, bajar_datos_del_censo\n",
    "\n",
    "query_nbi_ii_arg = 'HOGAR.H1510 = 2'\n",
    "soup = bajar_datos_del_censo(query_nbi_ii_arg)"
   ]
  },
  {
   "cell_type": "code",
   "execution_count": 2,
   "metadata": {},
   "outputs": [],
   "source": [
    "nbi_ii = cargar_tabla(soup)"
   ]
  },
  {
   "cell_type": "code",
   "execution_count": 17,
   "metadata": {},
   "outputs": [
    {
     "data": {
      "text/plain": [
       "tipo_vivienda\n",
       "Casa Tipo B                            int64\n",
       "Casilla                                int64\n",
       "Departamento                           int64\n",
       "Local no construido para habitación    int64\n",
       "Pieza en hotel familiar o pensión      int64\n",
       "Pieza en inquilinato                   int64\n",
       "Rancho                                 int64\n",
       "Total                                  int64\n",
       "Vivienda móvil                         int64\n",
       "dtype: object"
      ]
     },
     "execution_count": 17,
     "metadata": {},
     "output_type": "execute_result"
    }
   ],
   "source": [
    "nbi_ii.dtypes"
   ]
  },
  {
   "cell_type": "code",
   "execution_count": 12,
   "metadata": {},
   "outputs": [],
   "source": [
    "import pandas as pd\n",
    "import matplotlib.pyplot as plt"
   ]
  },
  {
   "cell_type": "code",
   "execution_count": null,
   "metadata": {},
   "outputs": [],
   "source": []
  },
  {
   "cell_type": "code",
   "execution_count": 27,
   "metadata": {},
   "outputs": [
    {
     "data": {
      "text/plain": [
       "Casa Tipo B                            12605\n",
       "Casilla                                 1240\n",
       "Departamento                             661\n",
       "Local no construido para habitación      107\n",
       "Pieza en hotel familiar o pensión         93\n",
       "Pieza en inquilinato                     167\n",
       "Rancho                                  2343\n",
       "Total                                  17296\n",
       "Vivienda móvil                            80\n",
       "dtype: int64"
      ]
     },
     "execution_count": 27,
     "metadata": {},
     "output_type": "execute_result"
    }
   ],
   "source": [
    "nbi_ii.aggregate({k: 'sum' for k in nbi_ii.columns})"
   ]
  },
  {
   "cell_type": "code",
   "execution_count": null,
   "metadata": {},
   "outputs": [],
   "source": []
  },
  {
   "cell_type": "code",
   "execution_count": 20,
   "metadata": {},
   "outputs": [
    {
     "data": {
      "image/png": "[encoded data removed]",
      "text/plain": [
       "<Figure size 432x288 with 1 Axes>"
      ]
     },
     "metadata": {
      "needs_background": "light"
     },
     "output_type": "display_data"
    }
   ],
   "source": [
    "x = nbi_ii.index\n",
    "y = nbi_ii['Total']\n",
    "fig, ax1 = plt.subplots()\n",
    "ax1.set_xlabel('')\n",
    "ax1.set_ylabel('NBI II')\n",
    "ax1.bar(x, y)\n",
    "fig.tight_layout()\n",
    "plt.show()"
   ]
  }
 ],
 "metadata": {
  "kernelspec": {
   "display_name": "Python 3",
   "language": "python",
   "name": "python3"
  },
  "language_info": {
   "codemirror_mode": {
    "name": "ipython",
    "version": 3
   },
   "file_extension": ".py",
   "mimetype": "text/x-python",
   "name": "python",
   "nbconvert_exporter": "python",
   "pygments_lexer": "ipython3",
   "version": "3.7.3"
  }
 },
 "nbformat": 4,
 "nbformat_minor": 2
}
