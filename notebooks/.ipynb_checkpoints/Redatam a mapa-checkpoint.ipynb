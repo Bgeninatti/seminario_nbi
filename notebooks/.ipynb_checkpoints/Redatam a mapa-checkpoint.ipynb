{
 "cells": [
  {
   "cell_type": "markdown",
   "metadata": {},
   "source": [
    " En este notebook vamos a explicar como representar los resultados de una query de REDATAM en un mapa."
   ]
  },
  {
   "cell_type": "markdown",
   "metadata": {},
   "source": [
    "Las librerías a utilizar para representar información sobre mapas son diversas. En este caso evaluaremos algunas opciones con el fin de decidir cuales mas apropiada para el trabajo"
   ]
  },
  {
   "cell_type": "markdown",
   "metadata": {},
   "source": [
    "# Bajando información de REDATAM\n",
    "\n",
    "Lo primero que vamos a hacer es bajar un dataframe para usar de ejemplo. Para esto harémos uso de las funciones en `redatam.py` que construimos anteriormente"
   ]
  },
  {
   "cell_type": "code",
   "execution_count": 1,
   "metadata": {},
   "outputs": [],
   "source": [
    "from redatam import bajar_query, soup_to_dataframe"
   ]
  },
  {
   "cell_type": "code",
   "execution_count": 3,
   "metadata": {},
   "outputs": [],
   "source": [
    "query = 'HOGAR.H1510 = 2'\n",
    "\n",
    "soup = bajar_query(query)\n",
    "df = soup_to_dataframe(soup)"
   ]
  },
  {
   "cell_type": "code",
   "execution_count": 4,
   "metadata": {},
   "outputs": [
    {
     "data": {
      "text/html": [
       "<div>\n",
       "<style scoped>\n",
       "    .dataframe tbody tr th:only-of-type {\n",
       "        vertical-align: middle;\n",
       "    }\n",
       "\n",
       "    .dataframe tbody tr th {\n",
       "        vertical-align: top;\n",
       "    }\n",
       "\n",
       "    .dataframe thead th {\n",
       "        text-align: right;\n",
       "    }\n",
       "</style>\n",
       "<table border=\"1\" class=\"dataframe\">\n",
       "  <thead>\n",
       "    <tr style=\"text-align: right;\">\n",
       "      <th>tipo_vivienda</th>\n",
       "      <th>Casa Tipo B</th>\n",
       "      <th>Casilla</th>\n",
       "      <th>Departamento</th>\n",
       "      <th>Local no construido para habitación</th>\n",
       "      <th>Pieza en hotel familiar o pensión</th>\n",
       "      <th>Pieza en inquilinato</th>\n",
       "      <th>Rancho</th>\n",
       "      <th>Total</th>\n",
       "      <th>Vivienda móvil</th>\n",
       "    </tr>\n",
       "    <tr>\n",
       "      <th>radio_cens</th>\n",
       "      <th></th>\n",
       "      <th></th>\n",
       "      <th></th>\n",
       "      <th></th>\n",
       "      <th></th>\n",
       "      <th></th>\n",
       "      <th></th>\n",
       "      <th></th>\n",
       "      <th></th>\n",
       "    </tr>\n",
       "  </thead>\n",
       "  <tbody>\n",
       "    <tr>\n",
       "      <td>820070101</td>\n",
       "      <td>0</td>\n",
       "      <td>0</td>\n",
       "      <td>0</td>\n",
       "      <td>0</td>\n",
       "      <td>0</td>\n",
       "      <td>0</td>\n",
       "      <td>0</td>\n",
       "      <td>0</td>\n",
       "      <td>0</td>\n",
       "    </tr>\n",
       "    <tr>\n",
       "      <td>820070102</td>\n",
       "      <td>3</td>\n",
       "      <td>0</td>\n",
       "      <td>0</td>\n",
       "      <td>0</td>\n",
       "      <td>0</td>\n",
       "      <td>0</td>\n",
       "      <td>0</td>\n",
       "      <td>3</td>\n",
       "      <td>0</td>\n",
       "    </tr>\n",
       "    <tr>\n",
       "      <td>820070103</td>\n",
       "      <td>5</td>\n",
       "      <td>0</td>\n",
       "      <td>0</td>\n",
       "      <td>0</td>\n",
       "      <td>0</td>\n",
       "      <td>0</td>\n",
       "      <td>0</td>\n",
       "      <td>5</td>\n",
       "      <td>0</td>\n",
       "    </tr>\n",
       "    <tr>\n",
       "      <td>820070104</td>\n",
       "      <td>1</td>\n",
       "      <td>0</td>\n",
       "      <td>0</td>\n",
       "      <td>0</td>\n",
       "      <td>0</td>\n",
       "      <td>0</td>\n",
       "      <td>0</td>\n",
       "      <td>1</td>\n",
       "      <td>0</td>\n",
       "    </tr>\n",
       "    <tr>\n",
       "      <td>820070201</td>\n",
       "      <td>1</td>\n",
       "      <td>0</td>\n",
       "      <td>0</td>\n",
       "      <td>0</td>\n",
       "      <td>0</td>\n",
       "      <td>0</td>\n",
       "      <td>0</td>\n",
       "      <td>1</td>\n",
       "      <td>0</td>\n",
       "    </tr>\n",
       "  </tbody>\n",
       "</table>\n",
       "</div>"
      ],
      "text/plain": [
       "tipo_vivienda  Casa Tipo B  Casilla  Departamento  \\\n",
       "radio_cens                                          \n",
       "820070101                0        0             0   \n",
       "820070102                3        0             0   \n",
       "820070103                5        0             0   \n",
       "820070104                1        0             0   \n",
       "820070201                1        0             0   \n",
       "\n",
       "tipo_vivienda  Local no construido para habitación  \\\n",
       "radio_cens                                           \n",
       "820070101                                        0   \n",
       "820070102                                        0   \n",
       "820070103                                        0   \n",
       "820070104                                        0   \n",
       "820070201                                        0   \n",
       "\n",
       "tipo_vivienda  Pieza en hotel familiar o pensión  Pieza en inquilinato  \\\n",
       "radio_cens                                                               \n",
       "820070101                                      0                     0   \n",
       "820070102                                      0                     0   \n",
       "820070103                                      0                     0   \n",
       "820070104                                      0                     0   \n",
       "820070201                                      0                     0   \n",
       "\n",
       "tipo_vivienda  Rancho  Total  Vivienda móvil  \n",
       "radio_cens                                    \n",
       "820070101           0      0               0  \n",
       "820070102           0      3               0  \n",
       "820070103           0      5               0  \n",
       "820070104           0      1               0  \n",
       "820070201           0      1               0  "
      ]
     },
     "execution_count": 4,
     "metadata": {},
     "output_type": "execute_result"
    }
   ],
   "source": [
    "df.head()"
   ]
  },
  {
   "cell_type": "markdown",
   "metadata": {},
   "source": [
    "# Kepler\n",
    "\n",
    "Una de las librerías que me gustaría probar, por sus herramientas para representación de información geográfica, es [Kepler](https://kepler.gl/#/).\n",
    "\n",
    "Encontré algunos recursos para utilizarla en conjunto con Jupyter notebook en [GitHub](https://github.com/keplergl/kepler.gl/blob/master/docs/keplergl-jupyter/user-guide.md) y [Medium](https://medium.com/vis-gl/introducing-kepler-gl-for-jupyter-f72d41659fbf)\n",
    "\n"
   ]
  },
  {
   "cell_type": "code",
   "execution_count": 1,
   "metadata": {},
   "outputs": [],
   "source": [
    "from keplergl import KeplerGl "
   ]
  },
  {
   "cell_type": "code",
   "execution_count": 2,
   "metadata": {},
   "outputs": [
    {
     "name": "stdout",
     "output_type": "stream",
     "text": [
      "User Guide: https://github.com/keplergl/kepler.gl/blob/master/docs/keplergl-jupyter/user-guide.md\n"
     ]
    }
   ],
   "source": [
    "map_1 = KeplerGl(height=500)"
   ]
  },
  {
   "cell_type": "code",
   "execution_count": 3,
   "metadata": {},
   "outputs": [
    {
     "data": {
      "application/vnd.jupyter.widget-view+json": {
       "model_id": "b0bd73a9ff2f4635a2d6ff75fac69eb9",
       "version_major": 2,
       "version_minor": 0
      },
      "text/plain": [
       "KeplerGl(height=500)"
      ]
     },
     "metadata": {},
     "output_type": "display_data"
    }
   ],
   "source": [
    "map_1"
   ]
  },
  {
   "cell_type": "code",
   "execution_count": 5,
   "metadata": {},
   "outputs": [
    {
     "data": {
      "text/plain": [
       "{'version': 'v1',\n",
       " 'config': {'visState': {'filters': [],\n",
       "   'layers': [],\n",
       "   'interactionConfig': {'tooltip': {'fieldsToShow': {}, 'enabled': False},\n",
       "    'brush': {'size': 0.5, 'enabled': False}},\n",
       "   'layerBlending': 'additive',\n",
       "   'splitMaps': []},\n",
       "  'mapState': {'bearing': 0,\n",
       "   'dragRotate': False,\n",
       "   'latitude': -32.94432115099814,\n",
       "   'longitude': -60.71317925529347,\n",
       "   'pitch': 0,\n",
       "   'zoom': 10.860491070055236,\n",
       "   'isSplit': False},\n",
       "  'mapStyle': {'styleType': 'muted',\n",
       "   'topLayerGroups': {},\n",
       "   'visibleLayerGroups': {'label': True,\n",
       "    'road': True,\n",
       "    'border': True,\n",
       "    'building': True,\n",
       "    'water': True,\n",
       "    'land': True,\n",
       "    '3d building': False},\n",
       "   'threeDBuildingColor': [224.4071295378559,\n",
       "    224.4071295378559,\n",
       "    224.4071295378559],\n",
       "   'mapStyles': {}}}}"
      ]
     },
     "execution_count": 5,
     "metadata": {},
     "output_type": "execute_result"
    }
   ],
   "source": [
    "map_1.config"
   ]
  },
  {
   "cell_type": "code",
   "execution_count": 11,
   "metadata": {},
   "outputs": [],
   "source": [
    "import json\n",
    "\n",
    "with open('kepler.config.json', 'w') as json_file:\n",
    "    json.dump(map_1.config, json_file)"
   ]
  },
  {
   "cell_type": "code",
   "execution_count": 16,
   "metadata": {},
   "outputs": [],
   "source": [
    "with open('kepler.config.json') as jsonfile:\n",
    "    kepler_config = json.load(jsonfile)\n",
    "\n",
    "with open('../datos/Codgeo_Santa_Fe_con_datos/Santa_Fe_con_datos.json') as geojson:\n",
    "    radios_rosario = json.load(geojson)"
   ]
  },
  {
   "cell_type": "code",
   "execution_count": 22,
   "metadata": {},
   "outputs": [
    {
     "name": "stdout",
     "output_type": "stream",
     "text": [
      "User Guide: https://github.com/keplergl/kepler.gl/blob/master/docs/keplergl-jupyter/user-guide.md\n"
     ]
    }
   ],
   "source": [
    "mapa_2 = map_1 = KeplerGl(height=500, config=kepler_config)\n",
    "mapa_2.add_data(radios_rosario, name=\"radios_censales\")"
   ]
  },
  {
   "cell_type": "code",
   "execution_count": 23,
   "metadata": {},
   "outputs": [
    {
     "data": {
      "application/vnd.jupyter.widget-view+json": {
       "model_id": "a43d876caf714996a396e825b933a119",
       "version_major": 2,
       "version_minor": 0
      },
      "text/plain": [
       "KeplerGl(config={'version': 'v1', 'config': {'visState': {'filters': [], 'layers': [], 'interactionConfig': {'…"
      ]
     },
     "metadata": {},
     "output_type": "display_data"
    }
   ],
   "source": [
    "mapa_2"
   ]
  },
  {
   "cell_type": "code",
   "execution_count": 20,
   "metadata": {},
   "outputs": [],
   "source": []
  }
 ],
 "metadata": {
  "kernelspec": {
   "display_name": "Python 3",
   "language": "python",
   "name": "python3"
  },
  "language_info": {
   "codemirror_mode": {
    "name": "ipython",
    "version": 3
   },
   "file_extension": ".py",
   "mimetype": "text/x-python",
   "name": "python",
   "nbconvert_exporter": "python",
   "pygments_lexer": "ipython3",
   "version": "3.7.3"
  }
 },
 "nbformat": 4,
 "nbformat_minor": 2
}
