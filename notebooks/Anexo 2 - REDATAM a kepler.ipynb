{
 "cells": [
  {
   "cell_type": "code",
   "execution_count": 1,
   "metadata": {},
   "outputs": [],
   "source": [
    "from keplergl import KeplerGl \n",
    "import json\n",
    "from pprint import pprint"
   ]
  },
  {
   "cell_type": "markdown",
   "metadata": {},
   "source": [
    " En este notebook vamos a explicar como representar los resultados de una query de REDATAM en un mapa."
   ]
  },
  {
   "cell_type": "markdown",
   "metadata": {},
   "source": [
    "Las librerías a utilizar para representar información sobre mapas son diversas. En este caso evaluaremos algunas opciones con el fin de decidir cuales mas apropiada para el trabajo"
   ]
  },
  {
   "cell_type": "markdown",
   "metadata": {},
   "source": [
    "# Bajando información de REDATAM\n",
    "\n",
    "Lo primero que vamos a hacer es bajar un dataframe para usar de ejemplo. Para esto harémos uso de las funciones en `redatam.py` que construimos anteriormente"
   ]
  },
  {
   "cell_type": "code",
   "execution_count": 4,
   "metadata": {},
   "outputs": [],
   "source": [
    "from redatam import bajar_query, soup_to_dataframe, soup_to_dict"
   ]
  },
  {
   "cell_type": "code",
   "execution_count": null,
   "metadata": {},
   "outputs": [],
   "source": [
    "query_total = 'HOGAR.H1510 = 2 OR HOGAR.H1510 = 1'\n",
    "query_nbi_ii_arg = 'HOGAR.H1510 = 2'\n",
    "\n",
    "soup_nbi_ii_arg = bajar_query(query_nbi_ii_arg)\n",
    "data_nbi_ii_arg = soup_to_dict(soup_nbi_ii_arg)\n",
    "\n",
    "soup_total = bajar_query(query_total)\n",
    "data_total = soup_to_dict(soup_total)"
   ]
  },
  {
   "cell_type": "code",
   "execution_count": 24,
   "metadata": {},
   "outputs": [],
   "source": []
  },
  {
   "cell_type": "markdown",
   "metadata": {},
   "source": [
    "# Archivos de radios censales"
   ]
  },
  {
   "cell_type": "markdown",
   "metadata": {},
   "source": [
    "### Proyección\n",
    "\n",
    "El instituto geográfico nacional brinda archivos shapefile con los polígonos de los radios censales. Laproyeccion de las coordenadas está en EPSG:3857 y hay que traducirlas a EPSG:4326.\n",
    "\n",
    "Transformamos el archivo shape a geojson y lo convertimos a coordenadas EPSG:4326 utilizando una [herramienta web](https://mygeodata.cloud/converter/)"
   ]
  },
  {
   "cell_type": "code",
   "execution_count": 35,
   "metadata": {},
   "outputs": [],
   "source": [
    "with open('../datos/Codgeo_Santa_Fe_con_datos/mygeodata/Santa_Fe_con_datos.geojson') as geojson:\n",
    "    radios_santa_fe = json.load(geojson)"
   ]
  },
  {
   "cell_type": "markdown",
   "metadata": {},
   "source": [
    "### Metadata\n",
    "\n",
    "El archivo de radios censales descargado del IGA (Instituto Geográfico Nacional) tiene algunos datos sobre población total, hogares y población de hombres y mujere. En nuestro caso no queremos esta información ya que los datos demográficos serán descargados de REDATAM.\n",
    "El primer paso será borrar esta información del archivo GEOJSON."
   ]
  },
  {
   "cell_type": "code",
   "execution_count": 36,
   "metadata": {},
   "outputs": [],
   "source": [
    "for feature in radios_santa_fe['features']:\n",
    "    feature['properties'] = {'link': feature['properties']['link']}"
   ]
  },
  {
   "cell_type": "markdown",
   "metadata": {},
   "source": [
    "Por otro lado, todos los radios censales son polígonos y, para algunas representaciones espaciales (como ser mapas de calor) necesitamos tener sólo un punto en lugar del radio censal completo. Para este fin utilizaremos el centroide del radio censal y lo añadirémos a la metadata de cada polígono."
   ]
  },
  {
   "cell_type": "markdown",
   "metadata": {},
   "source": [
    "El último paso será incorporar a la metadata de cada radio censal el resultado descargado de REDATAM"
   ]
  },
  {
   "cell_type": "code",
   "execution_count": 37,
   "metadata": {},
   "outputs": [
    {
     "name": "stdout",
     "output_type": "stream",
     "text": [
      "Radio censal no encontrado en REDATAM: 821330631\n"
     ]
    }
   ],
   "source": [
    "for feature in radios_santa_fe['features']:\n",
    "    try:\n",
    "        d_nbi_ii_arg = data_nbi_ii_arg[feature['properties']['link']]\n",
    "        d_total = data_total[feature['properties']['link']]\n",
    "        if not d_total['total']:\n",
    "            continue\n",
    "        metadata = {\n",
    "            'total_hogares': d_total['total'],\n",
    "            'hogares_nbi_ii': d_nbi_ii_arg['total'],\n",
    "            'nbi_ii_%': round(d_nbi_ii_arg['total']*100 / d_total['total'], 2)\n",
    "        }\n",
    "    except KeyError:\n",
    "        print(\"Radio censal no encontrado en REDATAM: {}\".format(feature['properties']['link']))\n",
    "    metadata['link'] = feature['properties']['link']\n",
    "    feature['properties'] = metadata"
   ]
  },
  {
   "cell_type": "code",
   "execution_count": 38,
   "metadata": {},
   "outputs": [],
   "source": [
    "with open('readios_censales_con_datos.json', 'w') as jsonfile:\n",
    "    json.dump(radios_santa_fe, jsonfile)"
   ]
  },
  {
   "cell_type": "markdown",
   "metadata": {},
   "source": [
    "# Kepler\n",
    "\n",
    "Una de las librerías que me gustaría probar, por sus herramientas para representación de información geográfica, es [Kepler](https://kepler.gl/#/).\n",
    "\n",
    "Encontré algunos recursos para utilizarla en conjunto con Jupyter notebook en [GitHub](https://github.com/keplergl/kepler.gl/blob/master/docs/keplergl-jupyter/user-guide.md) y [Medium](https://medium.com/vis-gl/introducing-kepler-gl-for-jupyter-f72d41659fbf)\n",
    "\n"
   ]
  },
  {
   "cell_type": "code",
   "execution_count": 2,
   "metadata": {},
   "outputs": [],
   "source": [
    "with open('readios_censales_con_datos.json') as jsonfile:\n",
    "    radios_santa_fe = json.load(jsonfile)\n",
    "\n",
    "with open('kepler.config.json') as jsonfile:\n",
    "    kepler_config = json.load(jsonfile)"
   ]
  },
  {
   "cell_type": "code",
   "execution_count": 3,
   "metadata": {},
   "outputs": [
    {
     "name": "stdout",
     "output_type": "stream",
     "text": [
      "User Guide: https://docs.kepler.gl/docs/keplergl-jupyter\n"
     ]
    }
   ],
   "source": [
    "mapa_2 = KeplerGl(height=700, config=kepler_config)\n",
    "mapa_2.add_data(radios_santa_fe, name=\"radios_censales\")"
   ]
  },
  {
   "cell_type": "code",
   "execution_count": 4,
   "metadata": {
    "scrolled": false
   },
   "outputs": [
    {
     "data": {
      "application/vnd.jupyter.widget-view+json": {
       "model_id": "1f99e281243941f2a1d7caebba9af8e4",
       "version_major": 2,
       "version_minor": 0
      },
      "text/plain": [
       "KeplerGl(config={'version': 'v1', 'config': {'visState': {'filters': [], 'layers': [{'id': '67yqg3p', 'type': …"
      ]
     },
     "metadata": {},
     "output_type": "display_data"
    }
   ],
   "source": [
    "mapa_2"
   ]
  }
 ],
 "metadata": {
  "kernelspec": {
   "display_name": "seminario_nbi",
   "language": "python",
   "name": "seminario_nbi"
  },
  "language_info": {
   "codemirror_mode": {
    "name": "ipython",
    "version": 3
   },
   "file_extension": ".py",
   "mimetype": "text/x-python",
   "name": "python",
   "nbconvert_exporter": "python",
   "pygments_lexer": "ipython3",
   "version": "3.9.5"
  }
 },
 "nbformat": 4,
 "nbformat_minor": 2
}
