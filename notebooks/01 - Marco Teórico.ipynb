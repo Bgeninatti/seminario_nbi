{
 "cells": [
  {
   "cell_type": "markdown",
   "metadata": {},
   "source": [
    "## Concepto de pobreza y su evolución histórica"
   ]
  },
  {
   "cell_type": "markdown",
   "metadata": {},
   "source": [
    " Si bien podemos encontrar mediciones de pobreza en investigaciones del siglo XVII y XIX [1], \n",
    " \n",
    " \n",
    " [^1]: Las primeras encuestas sociales de principios del siglo XVIII se referían a aspectos vinculados a la pobreza. Luego, durante el siglo XIX y principios del XX, se comenzó a dar marco teórico a las mediciones cuantitativas de la pobreza, aunque los estudios siempre referían a situaciones puntuales, como el mapa de pobreza de Londres elaborado por Booth, o el estudio de Rowntree sobre la pobreza en la ciudad de York utilizando un concepto de pobreza basado en requerimientos nutricionales. \n",
    "\tDomínguez Domínguez, Juana y Martín Carballo, Ana M. (2006). “Medición de la pobreza: una revisión de los principales indicadores”. Revista de Métodos Cuantitativos para la Economía y la Empresa (2). Páginas 27–66."
   ]
  }
 ],
 "metadata": {
  "kernelspec": {
   "display_name": "Python 3",
   "language": "python",
   "name": "python3"
  },
  "language_info": {
   "codemirror_mode": {
    "name": "ipython",
    "version": 3
   },
   "file_extension": ".py",
   "mimetype": "text/x-python",
   "name": "python",
   "nbconvert_exporter": "python",
   "pygments_lexer": "ipython3",
   "version": "3.7.6"
  }
 },
 "nbformat": 4,
 "nbformat_minor": 2
}
