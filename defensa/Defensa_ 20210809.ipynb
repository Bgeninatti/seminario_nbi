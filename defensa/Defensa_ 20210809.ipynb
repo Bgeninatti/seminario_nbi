{
 "cells": [
  {
   "cell_type": "markdown",
   "id": "e2332658",
   "metadata": {
    "slideshow": {
     "slide_type": "slide"
    }
   },
   "source": [
    "# Estimaciones multidimensionales de pobreza en el departamento Rosario, Santa Fe, Argentina. \n",
    "**Criterios del Instituto Nacional de Estadística y Censos (Argentina 2010) y comparaciones con metodología alternativa (Uruguay 2011).**\n",
    "\n",
    "<br>\n",
    "\n",
    "Seminario de Sustentabilidad del Desarrollo. Género, Ecología e Igualdad Socioeconómica.\n",
    "\n",
    "Geninatti, Bruno\n",
    "\n",
    "Docente a cargo:\n",
    "Andreozzi, Lucía "
   ]
  },
  {
   "cell_type": "markdown",
   "id": "2fa4cc44",
   "metadata": {
    "slideshow": {
     "slide_type": "slide"
    }
   },
   "source": [
    "# Motivación"
   ]
  },
  {
   "cell_type": "markdown",
   "id": "d8578620",
   "metadata": {
    "slideshow": {
     "slide_type": "subslide"
    }
   },
   "source": [
    "## El voluntariado en el Laboratorio Integral Mixto (Ríe Pibito) - FBIOyF, UNR\n",
    "\n"
   ]
  },
  {
   "cell_type": "markdown",
   "id": "94068845",
   "metadata": {
    "slideshow": {
     "slide_type": "fragment"
    }
   },
   "source": [
    "**¿Que se hace el laboratorio?** \n",
    "\n",
    "Se organizan actividades en el barrio \"Villa Banana\" en donde se realiza un relevamiento del acceso a agua potable y condiciones sanitarias dignas, mientras que se realizan campañas de promoción de la salud."
   ]
  },
  {
   "cell_type": "markdown",
   "id": "84c5d8f5",
   "metadata": {
    "slideshow": {
     "slide_type": "subslide"
    }
   },
   "source": [
    "<img src=\"imgs/rie_pibito.png\" alt=\"Ríe Pibito\"/>\n"
   ]
  },
  {
   "cell_type": "markdown",
   "id": "db7e2d1e",
   "metadata": {
    "slideshow": {
     "slide_type": "subslide"
    }
   },
   "source": [
    "**Se planteó un problema**\n",
    "\n",
    "*¿Como usar los datos de las encuestas para obtener un indicador que permita reflejar la realidad observada?*"
   ]
  },
  {
   "cell_type": "markdown",
   "id": "241f4345",
   "metadata": {
    "slideshow": {
     "slide_type": "fragment"
    }
   },
   "source": [
    "\n",
    "*¿Que metodologías ya existentes podemos utilizar?*"
   ]
  },
  {
   "cell_type": "markdown",
   "id": "8900be94",
   "metadata": {
    "slideshow": {
     "slide_type": "fragment"
    }
   },
   "source": [
    "* Determinantes sociales de la salúd - Marmot (2005)"
   ]
  },
  {
   "cell_type": "markdown",
   "id": "5b1c0a40",
   "metadata": {
    "slideshow": {
     "slide_type": "fragment"
    }
   },
   "source": [
    "* Necesidades Básicas Insatisfechas"
   ]
  },
  {
   "cell_type": "markdown",
   "id": "9d3b792d",
   "metadata": {
    "slideshow": {
     "slide_type": "subslide"
    }
   },
   "source": [
    "El NBI estimado en Argentina **no reflejaba la realidad y los problemas observados** en dos aspectos fundamentales:\n",
    "\n",
    "* Acceso al agua potable (y redes informales)\n",
    "* Sistemas de eliminación de excretas inapropiados fuera de la vivivenda"
   ]
  },
  {
   "cell_type": "markdown",
   "id": "62b36072",
   "metadata": {
    "slideshow": {
     "slide_type": "slide"
    }
   },
   "source": [
    "# Indicadores de pobreza basados en recursos\n"
   ]
  },
  {
   "cell_type": "markdown",
   "id": "f9a2e637",
   "metadata": {
    "slideshow": {
     "slide_type": "subslide"
    }
   },
   "source": [
    "## Método de la Línea de Pobreza\n",
    "\n",
    "Implica la confección y valuación de una canasta de bienes cuyo valor monetario determina la Linea de Pobreza."
   ]
  },
  {
   "cell_type": "markdown",
   "id": "323f4c2e",
   "metadata": {
    "slideshow": {
     "slide_type": "fragment"
    }
   },
   "source": [
    "**Antecedentes**:\n",
    "* Mapa de pobreza de Londres - Charles Booth (1889)\n",
    "* Línea de pobreza global mantenida por el Banco Mundial (1949)\n",
    "* Incidencia de la pobreza y la indigencia en 31 aglomerados urbanos (INDEC)"
   ]
  },
  {
   "cell_type": "markdown",
   "id": "30b726da",
   "metadata": {
    "slideshow": {
     "slide_type": "subslide"
    }
   },
   "source": [
    "## Método de las Necesidades Básicas Insatisfechas (NBI)\n",
    "\n",
    "No se evalúa la capacidad económica de acceder a un conjunto de bienes y servicios, sino que se intenta medir la satisfacción\n",
    "efectiva de estas necesidades."
   ]
  },
  {
   "cell_type": "markdown",
   "id": "433d2df5",
   "metadata": {
    "slideshow": {
     "slide_type": "fragment"
    }
   },
   "source": [
    "\n",
    "\n",
    "**Antecedentes**\n",
    "* Mapa de pobreza de Chile (1975)\n",
    "* Informe Dag Hammarskjold (1975)"
   ]
  },
  {
   "cell_type": "markdown",
   "id": "f531d745",
   "metadata": {
    "slideshow": {
     "slide_type": "subslide"
    }
   },
   "source": [
    "<img src=\"imgs/tabla_0.png\" alt=\"Tabla 1\"/>\n"
   ]
  },
  {
   "cell_type": "markdown",
   "id": "bb1849ca",
   "metadata": {
    "slideshow": {
     "slide_type": "slide"
    }
   },
   "source": [
    "# Sistemas de Información Geográfica\n",
    "\n",
    "Permiten registrar, manipular, representar y asociar datos a un sistema de coordenadas que se corresponde con una referencia espacial en la tierra.\n"
   ]
  },
  {
   "cell_type": "markdown",
   "id": "70f684d7",
   "metadata": {
    "slideshow": {
     "slide_type": "fragment"
    }
   },
   "source": [
    "\n",
    "**Antecedentes**\n",
    "\n",
    "* Mapa de pobreza de Londres  - Charles Booth (1889)\n",
    "* Estudio epidemiológico de John Snow (1832)\n",
    "* “Mapa de Pobreza Extrema” de Chile (1975)"
   ]
  },
  {
   "cell_type": "markdown",
   "id": "e9cd5af1",
   "metadata": {
    "slideshow": {
     "slide_type": "subslide"
    }
   },
   "source": [
    "## Dimensión espacial en Argentina\n",
    "\n",
    "Las menores unidades de desagregación geográficas son las fracciones y radios censales"
   ]
  },
  {
   "cell_type": "markdown",
   "id": "81fefcb2",
   "metadata": {
    "slideshow": {
     "slide_type": "fragment"
    }
   },
   "source": [
    "Las fracciones censales contienen un promedio de 5000 viviendas y los radios censales un promedio de 300 viviendas."
   ]
  },
  {
   "cell_type": "markdown",
   "id": "c05609b8",
   "metadata": {
    "slideshow": {
     "slide_type": "slide"
    }
   },
   "source": [
    "# Indicador NBI en Argentina 2010\n",
    "\n",
    "**Dimensiones consideradas**\n",
    "\n",
    "- Calidad de la vivienda\n",
    "- **Inadecuado sistema de eliminación de excretas** \n",
    "- Hacinamiento\n",
    "- Acceso a la educación\n",
    "- Capacidad económica"
   ]
  },
  {
   "cell_type": "markdown",
   "id": "a6d48002",
   "metadata": {
    "slideshow": {
     "slide_type": "subslide"
    }
   },
   "source": [
    "La única dimensión relacionada a \"Acceso a servicios sanitarios\" es el **Inadecuado sistema de eliminación de excretas** y se define como:\n",
    "\n",
    "*los hogares que no poseen retrete.* [1]\n",
    "\n",
    "[1] “Necesidades Básicas Insatisfechas (NBI) – Información censal del año 2010.” (Enero, 2014)\n",
    "Dirección Nacional de Relaciones Económicas con las Provincias (DINREP), Ministerio de\n",
    "Economía y Finanzas Públicas de la Nación"
   ]
  },
  {
   "cell_type": "markdown",
   "id": "0458427a",
   "metadata": {
    "slideshow": {
     "slide_type": "slide"
    }
   },
   "source": [
    "# Metodología alternativa\n",
    "\n",
    "<img src=\"imgs/tabla_1.png\" alt=\"Tabla 2\"/>\n"
   ]
  },
  {
   "cell_type": "markdown",
   "id": "d5ec3266",
   "metadata": {
    "slideshow": {
     "slide_type": "slide"
    }
   },
   "source": [
    "# Comparación de variables censales\n"
   ]
  },
  {
   "cell_type": "markdown",
   "id": "5980584e",
   "metadata": {
    "slideshow": {
     "slide_type": "subslide"
    }
   },
   "source": [
    "## Variables censales utilizadas: Acceso al Agua Potable\n",
    "<img src=\"imgs/preguntas_agua.png\" alt=\"Preguntas Agua\"/>"
   ]
  },
  {
   "cell_type": "markdown",
   "id": "80b2374f",
   "metadata": {
    "slideshow": {
     "slide_type": "subslide"
    }
   },
   "source": [
    "## Variables censales utilizadas: Eliminación de Excretas\n",
    "\n",
    "<img src=\"imgs/preguntas_excretas.png\" alt=\"Preguntas Excretas\"/>"
   ]
  },
  {
   "cell_type": "markdown",
   "id": "056b590c",
   "metadata": {
    "slideshow": {
     "slide_type": "slide"
    }
   },
   "source": [
    "# Resultados y conclusiones\n",
    "\n"
   ]
  },
  {
   "cell_type": "markdown",
   "id": "eeedf581",
   "metadata": {
    "slideshow": {
     "slide_type": "subslide"
    }
   },
   "source": [
    "<img src=\"imgs/figura_0.png\" alt=\"Preguntas Agua\"/>"
   ]
  },
  {
   "cell_type": "markdown",
   "id": "60c5ee27",
   "metadata": {
    "slideshow": {
     "slide_type": "subslide"
    }
   },
   "source": [
    "<img src=\"imgs/tabla_2.png\" alt=\"Tabla 2\"/>"
   ]
  },
  {
   "cell_type": "markdown",
   "id": "1cec2ee4",
   "metadata": {
    "slideshow": {
     "slide_type": "slide"
    }
   },
   "source": [
    "# ¡Muchas gracias!\n",
    "\n",
    "Bruno Geninatti - brunogeninatti@gmail.com"
   ]
  }
 ],
 "metadata": {
  "celltoolbar": "Slideshow",
  "kernelspec": {
   "display_name": "seminario_nbi",
   "language": "python",
   "name": "seminario_nbi"
  },
  "language_info": {
   "codemirror_mode": {
    "name": "ipython",
    "version": 3
   },
   "file_extension": ".py",
   "mimetype": "text/x-python",
   "name": "python",
   "nbconvert_exporter": "python",
   "pygments_lexer": "ipython3",
   "version": "3.9.6"
  }
 },
 "nbformat": 4,
 "nbformat_minor": 5
}
